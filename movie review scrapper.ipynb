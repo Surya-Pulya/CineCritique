{
 "cells": [
  {
   "cell_type": "code",
   "execution_count": 1,
   "metadata": {},
   "outputs": [],
   "source": [
    "movie = [\n",
    "  \"leo\"\n",
    "]"
   ]
  },
  {
   "cell_type": "code",
   "execution_count": 2,
   "metadata": {},
   "outputs": [],
   "source": [
    "from functools import reduce\n",
    "import serpapi\n",
    "\n",
    "def get_rating(title):\n",
    "  response = serpapi.search(\n",
    "    engine=\"google\", \n",
    "    q=f\"{title} movie review\", \n",
    "    hl=\"en\", \n",
    "    gl=\"us\", \n",
    "    api_key=\"dac15deee3bc9bdd73e6625e16a0483684c371d2bbb55d46fd38e9b5ec857cbe\"\n",
    "  )\n",
    "  if \"knowledge_graph\" in response and \"editorial_reviews\"in response[\"knowledge_graph\"]:\n",
    "    return reduce(lambda result, platform: {**result, platform[\"title\"]: platform[\"rating\"]}, response[\"knowledge_graph\"][\"editorial_reviews\"], {})\n",
    " "
   ]
  },
  {
   "cell_type": "code",
   "execution_count": 3,
   "metadata": {},
   "outputs": [],
   "source": [
    "def get_user_rating(title):\n",
    "    response = serpapi.search(\n",
    "    engine=\"google\", \n",
    "    q=f\"{title} movie review\", \n",
    "    hl=\"en\", \n",
    "    gl=\"us\", \n",
    "    api_key=\"dac15deee3bc9bdd73e6625e16a0483684c371d2bbb55d46fd38e9b5ec857cbe\"\n",
    "  )\n",
    "    \n",
    "\n",
    "    d=response[\"organic_results\"]\n",
    "    snippets = [item['snippet'] for item in d]\n",
    "    print(snippets)"
   ]
  },
  {
   "cell_type": "code",
   "execution_count": 4,
   "metadata": {},
   "outputs": [
    {
     "name": "stdout",
     "output_type": "stream",
     "text": [
      "['Fun, warm, but meandering and too-long, Leo is an animated adventure with kindness and celebrating individuality on its mind – and is a great showcase for ...', \"I love the movie Leo -it is funny and relatable. Leo is a coming-of-age story, seen through the eyes of a school's class pet, as much as it is a coming-to- ...\", \"Tender animated musical has mild innuendo, language. Read Common Sense Media's Leo review, age rating, and parents guide.\", 'Malkin (voiced by Cecily Strong). But therapy is larger on the minds for this story, and each time 74-year-old lizard Leo goes home with one of ...', \"The wistful, musical Luca, a charming story about abiding friendship, makes that Pixar movie repeat watch fare in my household. However, if you' ...\", 'Short review: Intense and one of the best performances from Vijay marred by weak script, weaker characterisation, and colossal waste of talent.', 'Adam Sandler stars in “Leo” as a grumpy lizard who has spent his entire life in the terrarium of a fifth-grade classroom.', 'LEO (A) Rated PG for rude/suggestive material and some language. Featuring the voices of Adam Sandler, Bill Burr, Cecily Strong, Jason Alexander ...']\n"
     ]
    }
   ],
   "source": [
    "data=get_user_rating(movie)"
   ]
  },
  {
   "cell_type": "code",
   "execution_count": 5,
   "metadata": {},
   "outputs": [
    {
     "name": "stdout",
     "output_type": "stream",
     "text": [
      "{'Rotten Tomatoes': '82%', 'IMDb': '7/10', 'Common Sense Media': '4/5'}\n",
      "[\"'Leo' is a film with a message. It cleverly introduces us to very different characters to convey powerful messages about different members of our society. Being ...\", \"Tender animated musical has mild innuendo, language. Read Common Sense Media's Leo review, age rating, and parents guide.\", \"“Leo” is a simple, yet effective, animated movie, whose gentle humor disguises a sweet parable about learning from one's elders — even the scaly ones.\", 'Adam Sandler brings a musical charm to the animated story of an ancient class pet, making it a charming family affair. Our Leo review:', 'LEO (A) Rated PG for rude/suggestive material and some language. Featuring the voices of Adam Sandler, Bill Burr, Cecily Strong, Jason Alexander ...', 'Short review: Intense and one of the best performances from Vijay marred by weak script, weaker characterisation, and colossal waste of talent.', \"Sandman's lazy artistic side takes over, fully flexed in this Netflix project rife with stiff animation and awkward gags.\", 'Adam Sandler stars in “Leo” as a grumpy lizard who has spent his entire life in the terrarium of a fifth-grade classroom.']\n"
     ]
    }
   ],
   "source": [
    "print(get_rating(movie))\n",
    "get_user_rating([movie])"
   ]
  },
  {
   "cell_type": "code",
   "execution_count": null,
   "metadata": {},
   "outputs": [],
   "source": []
  }
 ],
 "metadata": {
  "kernelspec": {
   "display_name": "Python 3",
   "language": "python",
   "name": "python3"
  },
  "language_info": {
   "codemirror_mode": {
    "name": "ipython",
    "version": 3
   },
   "file_extension": ".py",
   "mimetype": "text/x-python",
   "name": "python",
   "nbconvert_exporter": "python",
   "pygments_lexer": "ipython3",
   "version": "3.12.4"
  }
 },
 "nbformat": 4,
 "nbformat_minor": 2
}
